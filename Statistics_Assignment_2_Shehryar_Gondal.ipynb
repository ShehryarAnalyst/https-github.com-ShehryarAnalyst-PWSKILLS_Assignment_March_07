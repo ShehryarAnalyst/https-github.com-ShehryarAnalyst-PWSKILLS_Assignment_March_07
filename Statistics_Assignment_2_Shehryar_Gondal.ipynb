{
 "cells": [
  {
   "cell_type": "markdown",
   "id": "87dafa03",
   "metadata": {},
   "source": [
    "## Assignments Questions"
   ]
  },
  {
   "cell_type": "markdown",
   "id": "c9ab24c0",
   "metadata": {},
   "source": [
    "__Q1. What are the three measures of central tendency?__\n",
    "\n",
    "__Ans)__ The three measures of central tendency are:\n",
    "\n",
    "* __Mean:__ It is the arithmetic average of a set of numbers. The mean is obtained by summing up all the values in a set and dividing by the total number of values.\n",
    "\n",
    "* __Median:__ It is the middle value of a set of numbers that are arranged in order. The median divides the dataset into two equal halves.\n",
    "\n",
    "* __Mode:__ It is the value that appears most frequently in a dataset. A dataset may have one or more modes, or no mode at all if all values occur with equal frequency."
   ]
  },
  {
   "cell_type": "markdown",
   "id": "6d528398",
   "metadata": {},
   "source": [
    "__Q2. What is the difference between the mean, median, and mode? How are they used to measure the\n",
    "central tendency of a dataset?__\n",
    "\n",
    "__Ans)__ The mean, median, and mode are different measures of central tendency that are used to describe the typical or central value in a dataset.\n",
    "\n",
    "* The mean is the most common measure of central tendency and is calculated by adding up all the values in a dataset and dividing by the total number of values. It is sensitive to outliers or extreme values, and can be affected by them. It is often used for symmetrically distributed data.\n",
    "\n",
    "* The median is the middle value in a dataset when the values are arranged in order. It is not affected by extreme values or outliers and is a good measure for skewed data. The median is calculated by first ordering the dataset from lowest to highest, and then finding the value that is exactly in the middle. If the dataset has an even number of values, then the median is the average of the two middle values.\n",
    "\n",
    "* The mode is the value that appears most frequently in a dataset. It is used for nominal data and is not appropriate for continuous data. The mode can be used for any type of data but is particularly useful for categorical data, such as the favorite color of students in a class.\n",
    "\n",
    "__In summary, the mean is a measure of central tendency that is useful for symmetrically distributed data, the median is useful for skewed data, and the mode is useful for nominal data.__"
   ]
  },
  {
   "cell_type": "markdown",
   "id": "5c03b509",
   "metadata": {},
   "source": [
    "__Q3. Measure the three measures of central tendency for the given height data:\n",
    "[178,177,176,177,178.2,178,175,179,180,175,178.9,176.2,177,172.5,178,176.5]?__\n",
    "\n",
    "__Ans)__  \n",
    "\n",
    "* Mean: To find the mean, we add up all the values in the dataset and divide by the total number of values:\n",
    "<br>\n",
    "\n",
    "Mean = (178 + 177 + 176 + 177 + 178.2 + 178 + 175 + 179 + 180 + 175 + 178.9 + 176.2 + 177 + 172.5 + 178 + 176.5) / 16 <br>\n",
    "     = 1769.8 / 16 <br>\n",
    "     = 110.61 <br>\n",
    "     \n",
    "* Median: To find the median, we first arrange the values in order:\n",
    "values= (172.5, 175, 175, 176, 176.2, 176.5, 177, 177, 178, 178, 178, 178.2, 178.9, 179, 180) <br>\n",
    "Median = (177 + 178) / 2 <br>\n",
    "       = 177.5 \n",
    "<br>\n",
    "\n",
    "* Mode: To find the mode, we look for the value that appears most frequently in the dataset:\n",
    "\n",
    "Therefore, the mode height is 178 cm.\n",
    "\n",
    "In summary, the mean height is 110.61 cm, the median height is 177.5 cm, and the mode height is 178 cm."
   ]
  },
  {
   "cell_type": "markdown",
   "id": "d9b7369d",
   "metadata": {},
   "source": [
    "__Q4. Find the standard deviation for the given data:\n",
    "[178,177,176,177,178.2,178,175,179,180,175,178.9,176.2,177,172.5,178,176.5]?__\n",
    "\n",
    "__Ans)__ To find the standard deviation of the given data, we can use the following formula:\n",
    "\n",
    "s = sqrt([Σ(xi - x̄)^2] / (n - 1))\n",
    "\n",
    "Where:\n",
    "\n",
    "Σ represents the sum of the values\n",
    "xi represents each individual value\n",
    "x̄ represents the mean of the values\n",
    "n represents the number of values\n",
    "sqrt represents the square root function\n",
    "First, we need to find the mean of the data:\n",
    "\n",
    "x̄ = (178 + 177 + 176 + 177 + 178.2 + 178 + 175 + 179 + 180 + 175 + 178.9 + 176.2 + 177 + 172.5 + 178 + 176.5) / 16 = 177.15\n",
    "\n",
    "Next, we can use the formula to calculate the standard deviation:\n",
    "\n",
    "s = sqrt([(178-177.15)^2 + (177-177.15)^2 + (176-177.15)^2 + ... + (176.5-177.15)^2] / (16 - 1))\n",
    "\n",
    "s = sqrt([0.7225 + 0.0025 + 1.1025 + ... + 0.5776] / 15)\n",
    "\n",
    "s = sqrt(13.0651 / 15)\n",
    "\n",
    "s = sqrt(0.871)\n",
    "\n",
    "s = 0.933\n",
    "\n",
    "__Therefore, the standard deviation of the given data is approximately 0.933.__"
   ]
  },
  {
   "cell_type": "markdown",
   "id": "14a6fb99",
   "metadata": {},
   "source": [
    "__Q5. How are measures of dispersion such as range, variance, and standard deviation used to describe\n",
    "the spread of a dataset? Provide an example.?__\n",
    "\n",
    "__Ans)__ Measures of dispersion are used to describe how much the data in a dataset varies or spread out from the central tendency (mean, median, or mode).\n",
    "\n",
    "* Range is the simplest measure of dispersion and it represents the difference between the largest and smallest values in a dataset. However, range is not always a reliable measure of dispersion as it is heavily influenced by outliers.\n",
    "\n",
    "* Variance and standard deviation are more robust measures of dispersion. Variance is the average of the squared differences between each data point and the mean of the dataset. Standard deviation is the square root of variance and is more interpretable as it has the same units as the original data.\n",
    "\n",
    "__For example, consider a dataset of the daily temperatures in a city for the past 10 days: [25, 24, 26, 22, 23, 21, 27, 25, 26, 23]. The mean temperature is 24.2 degrees Celsius. The range is 6 (27-21). The variance is 3.56 and the standard deviation is 1.89. We can interpret these measures to say that the temperature data has a relatively small range and standard deviation, indicating that the temperature did not vary greatly during the 10-day period.__"
   ]
  },
  {
   "cell_type": "markdown",
   "id": "f7789fbf",
   "metadata": {},
   "source": [
    "__Q6. What is a Venn diagram?__\n",
    "\n",
    "__Ans)__ A Venn diagram is a visual representation of sets using circles or other geometric shapes. It is used to show the relationships between different sets or groups. The circles in a Venn diagram overlap to varying degrees, with each circle representing a different set or group, and the overlapping portions representing the elements that belong to both sets. Venn diagrams are commonly used in mathematics, logic, statistics, and other fields to help visualize and understand the relationships between different groups or categories of data."
   ]
  },
  {
   "cell_type": "markdown",
   "id": "82deaab3",
   "metadata": {},
   "source": [
    "__Q7. For the two given sets A = (2,3,4,5,6,7) & B = (0,2,6,8,10). Find:\n",
    "(i) A B\n",
    "(ii) A ⋃ B?__\n",
    "\n",
    "__Ans)__  \n",
    "1. A ∩ B: The intersection of A and B is the set of elements that are common to both sets. In this case, A ∩ B = {2, 6}.\n",
    "2. A ⋃ B: The union of A and B is the set of elements that are in either set. In this case, A ⋃ B = {0, 2, 3, 4, 5, 6, 7, 8, 10}."
   ]
  },
  {
   "cell_type": "markdown",
   "id": "868ec62e",
   "metadata": {},
   "source": [
    "__Q8. What do you understand about skewness in data?__\n",
    "\n",
    "__Ans)__ Skewness in data is a measure of the asymmetry of the probability distribution of a random variable. It indicates the degree to which the data is not symmetrical. A symmetrical distribution has a skewness of zero, while a positive or negative skewness indicates a shift in the distribution towards the right or left, respectively. Skewness can have a significant impact on statistical analysis, particularly when using measures of central tendency and variability. Skewed data can affect the validity of some statistical tests and should be handled appropriately"
   ]
  },
  {
   "cell_type": "markdown",
   "id": "4b9f4d1b",
   "metadata": {},
   "source": [
    "__Q9. If a data is right skewed then what will be the position of median with respect to mean?__\n",
    "\n",
    "__Ans)__ If a data is right skewed, the median will be less than the mean.\n",
    "\n",
    "Equation:Q3-Q2 >= Q2-Q1"
   ]
  },
  {
   "cell_type": "markdown",
   "id": "0ce90c06",
   "metadata": {},
   "source": [
    "__Q10. Explain the difference between covariance and correlation. How are these measures used in\n",
    "statistical analysis?__\n",
    "\n",
    "__Ans)__ Covariance and correlation are both measures used to quantify the relationship between two variables in statistical analysis. However, they differ in their interpretation and use.\n",
    "\n",
    "Covariance measures the extent to which two variables vary together. It is a measure of the joint variability of two random variables. A positive covariance indicates that the two variables tend to move in the same direction, while a negative covariance indicates that they tend to move in opposite directions. However, the magnitude of covariance depends on the units of measurement of the two variables, making it difficult to compare across different datasets.\n",
    "\n",
    "Correlation, on the other hand, measures the strength and direction of the linear relationship between two variables. It is a standardized version of covariance, where the values are scaled to fall between -1 and 1. A correlation coefficient of +1 indicates a perfect positive correlation, -1 indicates a perfect negative correlation, and 0 indicates no correlation. Correlation is a more widely used measure than covariance as it is independent of the scale of measurement and easier to interpret.\n",
    "\n",
    "__In statistical analysis, covariance and correlation are used to identify the strength and direction of the relationship between two variables. They are commonly used in regression analysis to determine the extent to which one variable can be used to predict the other variable. A high correlation or covariance between two variables suggests that changes in one variable are associated with changes in the other variable, making it useful in forecasting and predictive modeling. However, it is important to note that correlation does not imply causation and that other factors may influence the relationship between the two variables.__"
   ]
  },
  {
   "cell_type": "markdown",
   "id": "d41a32f7",
   "metadata": {},
   "source": [
    "__Q11. What is the formula for calculating the sample mean? Provide an example calculation for a\n",
    "dataset.?__\n",
    "\n",
    "__Ans)__ The formula for calculating the sample mean is:\n",
    "\n",
    "sample mean = (sum of all values in the sample) / (number of values in the sample)\n",
    "\n",
    "For example, let's say we have the following dataset of exam scores for 5 students:\n",
    "\n",
    "{70, 85, 60, 92, 75}\n",
    "\n",
    "To calculate the sample mean, we add up all the values in the sample:\n",
    "\n",
    "70 + 85 + 60 + 92 + 75 = 382\n",
    "\n",
    "Then we divide the sum by the number of values in the sample:\n",
    "\n",
    "382 / 5 = 76.4\n",
    "\n",
    "Therefore, the sample mean for this dataset is 76.4."
   ]
  },
  {
   "cell_type": "markdown",
   "id": "4b4271a1",
   "metadata": {},
   "source": [
    "__Q12. For a normal distribution data what is the relationship between its measure of central tendency??__\n",
    "\n",
    "__Ans)__ For a normal distribution data, the mean, median, and mode are equal to each other. This means that they all represent the same value of central tendency, and they are all located at the peak of the symmetrical bell-shaped curve of the normal distribution. The values to the left and right of the mean, median, and mode decrease symmetrically in a bell-shaped curve, with the standard deviation determining the degree of spread or variability of the data around the central tendency."
   ]
  },
  {
   "cell_type": "markdown",
   "id": "6b2f8578",
   "metadata": {},
   "source": [
    "__Q13. How is covariance different from correlation?__\n",
    "\n",
    "__Ans)__ Covariance and correlation are both measures of the relationship between two variables. However, there are some key differences between them:\n",
    "\n",
    "* Definition: Covariance is a measure of how two variables vary together. It is calculated as the average of the product of the deviations of each variable from their respective means. Correlation, on the other hand, is a measure of the strength and direction of the linear relationship between two variables. It is calculated as the ratio of the covariance to the product of the standard deviations of the two variables.\n",
    "\n",
    "* Scale: Covariance is not standardized, which means that its value depends on the units of the variables being measured. Correlation, on the other hand, is standardized, which means that it is independent of the units of the variables.\n",
    "\n",
    "* Range: Covariance can take any value between negative infinity and positive infinity, while correlation can take values between -1 and +1.\n",
    "\n",
    "* Interpretation: Covariance indicates the direction of the relationship between two variables, but it does not indicate the strength of the relationship. Correlation, on the other hand, indicates both the direction and strength of the relationship between two variables.\n",
    "\n",
    "__In summary, covariance measures the degree to which two variables move together, while correlation measures the strength and direction of the linear relationship between two variables, and is more interpretable and standardized.__"
   ]
  },
  {
   "cell_type": "markdown",
   "id": "fe60094d",
   "metadata": {},
   "source": [
    "__Q14. How do outliers affect measures of central tendency and dispersion? Provide an example.?__\n",
    "\n",
    "__Ans)__ Outliers can have a significant impact on measures of central tendency and dispersion. Measures of central tendency such as the mean and median can be greatly affected by outliers, pulling the value in their direction. For example, if we have a dataset of salaries with a few extremely high salaries, the mean salary will be much higher than the median salary, which is less affected by outliers.\n",
    "\n",
    "Similarly, outliers can greatly affect measures of dispersion such as range, variance, and standard deviation. Outliers can increase the range of the data, making it appear more spread out than it really is. Outliers can also increase the variance and standard deviation, which are measures of how far the data points are from the mean.\n",
    "\n",
    "__For example, consider a dataset of test scores with one very low score of 20 and all other scores between 70-90. The range of the data will be much larger than the spread of the bulk of the scores, and the variance and standard deviation will be much larger than if the low score was not present. Therefore, it is important to identify and handle outliers appropriately in statistical analysis.__"
   ]
  },
  {
   "cell_type": "markdown",
   "id": "2103e01d",
   "metadata": {},
   "source": [
    "-------------------------------------------------------------------------------------------- __End__----------------------------------------------------------------------------------------------------------------"
   ]
  }
 ],
 "metadata": {
  "kernelspec": {
   "display_name": "Python 3 (ipykernel)",
   "language": "python",
   "name": "python3"
  },
  "language_info": {
   "codemirror_mode": {
    "name": "ipython",
    "version": 3
   },
   "file_extension": ".py",
   "mimetype": "text/x-python",
   "name": "python",
   "nbconvert_exporter": "python",
   "pygments_lexer": "ipython3",
   "version": "3.9.12"
  },
  "varInspector": {
   "cols": {
    "lenName": 16,
    "lenType": 16,
    "lenVar": 40
   },
   "kernels_config": {
    "python": {
     "delete_cmd_postfix": "",
     "delete_cmd_prefix": "del ",
     "library": "var_list.py",
     "varRefreshCmd": "print(var_dic_list())"
    },
    "r": {
     "delete_cmd_postfix": ") ",
     "delete_cmd_prefix": "rm(",
     "library": "var_list.r",
     "varRefreshCmd": "cat(var_dic_list()) "
    }
   },
   "types_to_exclude": [
    "module",
    "function",
    "builtin_function_or_method",
    "instance",
    "_Feature"
   ],
   "window_display": false
  }
 },
 "nbformat": 4,
 "nbformat_minor": 5
}
